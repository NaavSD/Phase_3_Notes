{
 "cells": [
  {
   "cell_type": "markdown",
   "id": "e81bba0f",
   "metadata": {},
   "source": [
    "## Modeling"
   ]
  },
  {
   "cell_type": "markdown",
   "id": "f00452fd",
   "metadata": {},
   "source": [
    "### Regularization"
   ]
  },
  {
   "cell_type": "markdown",
   "id": "385b44e2",
   "metadata": {},
   "source": [
    "- To regularize data, they must be standard scaled first\n",
    "- Regularize data to better fit model (fix under/over fit)"
   ]
  },
  {
   "cell_type": "markdown",
   "id": "5816042b",
   "metadata": {},
   "source": [
    "**Ridge**\n",
    "\n",
    "Start with this type of regularization.<br>\n",
    "Gentler. More useful for smaller data sets."
   ]
  },
  {
   "cell_type": "markdown",
   "id": "0718f061",
   "metadata": {},
   "source": [
    "**Lasso**\n",
    "\n",
    "Rough regularization. Drops large coefficients. Useful for datasets with high volume of variables."
   ]
  },
  {
   "cell_type": "markdown",
   "id": "e974f4ba",
   "metadata": {},
   "source": [
    "**Elastic Net**\n",
    "\n",
    "Combination of Lasso and Ridge. % of each usually set standard by employer."
   ]
  },
  {
   "cell_type": "code",
   "execution_count": null,
   "id": "bc63e803",
   "metadata": {},
   "outputs": [],
   "source": []
  }
 ],
 "metadata": {
  "kernelspec": {
   "display_name": "Python (learn-env)",
   "language": "python",
   "name": "learn-env"
  },
  "language_info": {
   "codemirror_mode": {
    "name": "ipython",
    "version": 3
   },
   "file_extension": ".py",
   "mimetype": "text/x-python",
   "name": "python",
   "nbconvert_exporter": "python",
   "pygments_lexer": "ipython3",
   "version": "3.9.7"
  }
 },
 "nbformat": 4,
 "nbformat_minor": 5
}
